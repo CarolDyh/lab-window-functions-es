{
 "cells": [
  {
   "cell_type": "markdown",
   "id": "b4ba9fdc",
   "metadata": {},
   "source": [
    "### 1. Calcular la duración media del alquiler (en días) para cada película:"
   ]
  },
  {
   "cell_type": "markdown",
   "id": "ca70ce77",
   "metadata": {},
   "source": [
    "```sql\n",
    "SELECT f.title, AVG(DATEDIFF(r.return_date, r.rental_date)) AS avg_rental_duration_days\n",
    "FROM rental r\n",
    "JOIN inventory i ON r.inventory_id = i.inventory_id\n",
    "JOIN film f ON i.film_id = f.film_id\n",
    "WHERE r.return_date IS NOT NULL\n",
    "GROUP BY f.title\n",
    "ORDER BY avg_rental_duration_days DESC;\n",
    "```"
   ]
  },
  {
   "cell_type": "markdown",
   "id": "c7f7ea37",
   "metadata": {},
   "source": [
    "### 2. Calcular el importe medio de los pagos para cada miembro del personal:"
   ]
  },
  {
   "cell_type": "markdown",
   "id": "a7195632",
   "metadata": {},
   "source": [
    "```sql\n",
    "SELECT staff_id, AVG(amount) AS avg_payment_amount\n",
    "FROM payment\n",
    "GROUP BY staff_id;\n",
    "```"
   ]
  },
  {
   "cell_type": "markdown",
   "id": "d307de0e",
   "metadata": {},
   "source": [
    "### 3. Calcular los ingresos totales para cada cliente, mostrando el total acumulado dentro del historial de alquileres de cada cliente:"
   ]
  },
  {
   "cell_type": "markdown",
   "id": "6130585f",
   "metadata": {},
   "source": [
    "```sql\n",
    "SELECT \n",
    "    p.customer_id,\n",
    "    p.payment_date,\n",
    "    p.amount,\n",
    "    SUM(p.amount) OVER (\n",
    "        PARTITION BY p.customer_id \n",
    "        ORDER BY p.payment_date \n",
    "        ROWS BETWEEN UNBOUNDED PRECEDING AND CURRENT ROW\n",
    "    ) AS cumulative_total\n",
    "FROM payment p\n",
    "ORDER BY p.customer_id, p.payment_date;\n",
    "```"
   ]
  },
  {
   "cell_type": "markdown",
   "id": "e4eb28f2",
   "metadata": {},
   "source": [
    "### 4. Determinar el cuartil para las tarifas de alquiler de las películas"
   ]
  },
  {
   "cell_type": "markdown",
   "id": "f415b327",
   "metadata": {},
   "source": [
    "```sql\n",
    "SELECT title, rental_rate, NTILE(4) OVER (ORDER BY rental_rate) AS quartile\n",
    "FROM film\n",
    "ORDER BY rental_rate;\n",
    "```"
   ]
  },
  {
   "cell_type": "markdown",
   "id": "dba9ef04",
   "metadata": {},
   "source": [
    "### 5. Determinar la primera y última fecha de alquiler para cada cliente:"
   ]
  },
  {
   "cell_type": "markdown",
   "id": "84bd863c",
   "metadata": {},
   "source": [
    "```sql\n",
    "SELECT\n",
    "    customer_id,\n",
    "    MIN(rental_date) OVER (PARTITION BY customer_id) AS first_rental_date,\n",
    "    MAX(rental_date) OVER (PARTITION BY customer_id) AS last_rental_date\n",
    "FROM\n",
    "    rental;\n",
    "```"
   ]
  },
  {
   "cell_type": "markdown",
   "id": "fdda139f",
   "metadata": {},
   "source": [
    "### 6. Calcular el rango de los clientes basado en el número de sus alquileres:"
   ]
  },
  {
   "cell_type": "markdown",
   "id": "dde6cc37",
   "metadata": {},
   "source": [
    "```sql\n",
    "SELECT \n",
    "    customer_id,\n",
    "    COUNT(rental_id) AS total_rentals,\n",
    "    RANK() OVER (ORDER BY COUNT(rental_id) DESC) AS rental_rank\n",
    "FROM rental\n",
    "GROUP BY customer_id\n",
    "ORDER BY rental_rank;\n",
    "```"
   ]
  },
  {
   "cell_type": "markdown",
   "id": "ba05c1d1",
   "metadata": {},
   "source": [
    "### 7. Calcular el total acumulado de ingresos por día para la categoría de películas 'Familiar':"
   ]
  },
  {
   "cell_type": "markdown",
   "id": "4c9ebbce",
   "metadata": {},
   "source": [
    "```sql\n",
    "SELECT \n",
    "    DATE(p.payment_date) AS payment_day,\n",
    "    SUM(p.amount) AS daily_total,\n",
    "    SUM(SUM(p.amount)) OVER (ORDER BY DATE(p.payment_date)) AS cumulative_total\n",
    "FROM payment p\n",
    "JOIN rental r ON p.rental_id = r.rental_id\n",
    "JOIN inventory i ON r.inventory_id = i.inventory_id\n",
    "JOIN film f ON i.film_id = f.film_id\n",
    "JOIN film_category fc ON f.film_id = fc.film_id\n",
    "JOIN category c ON fc.category_id = c.category_id\n",
    "WHERE c.name = 'Family'\n",
    "GROUP BY DATE(p.payment_date)\n",
    "ORDER BY payment_day;\n",
    "```"
   ]
  },
  {
   "cell_type": "markdown",
   "id": "039b57eb",
   "metadata": {},
   "source": [
    "### 8. Asignar un ID único a cada pago dentro del historial de pagos de cada cliente:"
   ]
  },
  {
   "cell_type": "markdown",
   "id": "abcc5934",
   "metadata": {},
   "source": [
    "```sql\n",
    "SELECT \n",
    "    p.customer_id,\n",
    "    p.payment_id,\n",
    "    p.payment_date,\n",
    "    ROW_NUMBER() OVER (PARTITION BY p.customer_id ORDER BY p.payment_date) AS payment_sequence\n",
    "FROM payment p\n",
    "ORDER BY p.customer_id, payment_date;\n",
    "```"
   ]
  },
  {
   "cell_type": "markdown",
   "id": "2585681e",
   "metadata": {},
   "source": [
    "### 9. Calcular la diferencia en días entre cada alquiler y el alquiler anterior para cada cliente:"
   ]
  },
  {
   "cell_type": "markdown",
   "id": "b1628e16",
   "metadata": {},
   "source": [
    "```sql\n",
    "SELECT\n",
    "    customer_id,\n",
    "    rental_id,\n",
    "    rental_date,\n",
    "    LAG(rental_date) OVER (PARTITION BY customer_id ORDER BY rental_date) AS previous_rental_date,\n",
    "    DATEDIFF(rental_date, LAG(rental_date) OVER (PARTITION BY customer_id ORDER BY rental_date)) AS days_between_rentals\n",
    "FROM\n",
    "    rental\n",
    "ORDER BY\n",
    "    customer_id, rental_date;\n",
    "```"
   ]
  }
 ],
 "metadata": {
  "kernelspec": {
   "display_name": "Python 3 (ipykernel)",
   "language": "python",
   "name": "python3"
  },
  "language_info": {
   "codemirror_mode": {
    "name": "ipython",
    "version": 3
   },
   "file_extension": ".py",
   "mimetype": "text/x-python",
   "name": "python",
   "nbconvert_exporter": "python",
   "pygments_lexer": "ipython3",
   "version": "3.9.13"
  },
  "nbTranslate": {
   "displayLangs": [
    "en",
    "es"
   ],
   "hotkey": "alt-a",
   "langInMainMenu": true,
   "sourceLang": "es",
   "targetLang": "en",
   "useGoogleTranslate": true
  }
 },
 "nbformat": 4,
 "nbformat_minor": 5
}
